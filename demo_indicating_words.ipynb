{
 "cells": [
  {
   "cell_type": "markdown",
   "metadata": {},
   "source": [
    "Demo for removing the indicating words in Human and ChatGPT answers"
   ]
  },
  {
   "cell_type": "code",
   "execution_count": 1,
   "metadata": {
    "ExecuteTime": {
     "end_time": "2023-01-19T13:08:34.730079Z",
     "start_time": "2023-01-19T13:08:33.091901Z"
    }
   },
   "outputs": [
    {
     "name": "stderr",
     "output_type": "stream",
     "text": [
      "[nltk_data] Downloading package punkt to\n",
      "[nltk_data]     C:\\Users\\Minqi\\AppData\\Roaming\\nltk_data...\n",
      "[nltk_data]   Package punkt is already up-to-date!\n"
     ]
    }
   ],
   "source": [
    "import re\n",
    "import nltk\n",
    "nltk.download('punkt')\n",
    "from nltk import sent_tokenize # for spliting English sentences"
   ]
  },
  {
   "cell_type": "code",
   "execution_count": 2,
   "metadata": {
    "ExecuteTime": {
     "end_time": "2023-01-19T13:08:34.745198Z",
     "start_time": "2023-01-19T13:08:34.733041Z"
    }
   },
   "outputs": [],
   "source": [
    "# for spliting Chinese sentences\n",
    "def cut_sent(para):\n",
    "    para = re.sub('([。！？\\?])([^”’])', r\"\\1\\n\\2\", para)\n",
    "    para = re.sub('(\\.{6})([^”’])', r\"\\1\\n\\2\", para)\n",
    "    para = re.sub('(\\…{2})([^”’])', r\"\\1\\n\\2\", para)\n",
    "    para = re.sub('([。！？\\?][”’])([^，。！？\\?])', r'\\1\\n\\2', para)\n",
    "    para = para.rstrip()\n",
    "    return para.split(\"\\n\")\n",
    "\n",
    "def replace_ni(string):\n",
    "    return string.replace('您','你')"
   ]
  },
  {
   "cell_type": "code",
   "execution_count": 3,
   "metadata": {
    "ExecuteTime": {
     "end_time": "2023-01-19T13:08:34.761064Z",
     "start_time": "2023-01-19T13:08:34.749113Z"
    }
   },
   "outputs": [],
   "source": [
    "# human indicating words (both english and chinese)\n",
    "with open('indicating_words_en_human.txt', encoding='gbk') as f:\n",
    "    indicating_words_human_en = [l.rstrip() for l in f]\n",
    "    \n",
    "with open('indicating_words_zh_human.txt', encoding='gbk') as f:\n",
    "    indicating_words_human_zh = [l.rstrip() for l in f]\n",
    "\n",
    "# chatgpt indicating words (both english and chinese)\n",
    "with open('indicating_words_en_chatgpt.txt', encoding='gbk') as f:\n",
    "    indicating_words_chatgpt_en = [l.rstrip() for l in f]\n",
    "    \n",
    "with open('indicating_words_zh_chatgpt.txt', encoding='gbk') as f:\n",
    "    indicating_words_chatgpt_zh = [l.rstrip() for l in f]"
   ]
  },
  {
   "cell_type": "code",
   "execution_count": 4,
   "metadata": {
    "ExecuteTime": {
     "end_time": "2023-01-19T13:08:34.776328Z",
     "start_time": "2023-01-19T13:08:34.762069Z"
    }
   },
   "outputs": [],
   "source": [
    "def filtering(text, indicating_words, language, verbose=False):\n",
    "    '''removing sentence(s) that includes indicating words'''\n",
    "    assert isinstance(text, str)\n",
    "    assert isinstance(indicating_words, list)\n",
    "    if language == 'en':\n",
    "        sents = sent_tokenize(text)\n",
    "    elif language == 'zh':\n",
    "        sents = cut_sent(text)\n",
    "    else:\n",
    "        raise NotImplementedError\n",
    "  \n",
    "    filtered_sents = []\n",
    "    for s in sents:\n",
    "        if language == 'zh':\n",
    "            # replace\"您\"to\"你\" for Chinese corpus\n",
    "            s = replace_ni(s)\n",
    "        has = False\n",
    "        for k in indicating_words:\n",
    "            if k in s:\n",
    "                has = True\n",
    "                break\n",
    "        if not has:\n",
    "            filtered_sents.append(s)\n",
    "            \n",
    "    filtered_sents = ' '.join(filtered_sents)\n",
    "    \n",
    "    if verbose:\n",
    "        print(f'Original answers: {text} \\nFiltered answers: {filtered_sents}\\n')\n",
    "\n",
    "    return filtered_sents"
   ]
  },
  {
   "cell_type": "code",
   "execution_count": 6,
   "metadata": {
    "ExecuteTime": {
     "end_time": "2023-01-19T13:09:54.472522Z",
     "start_time": "2023-01-19T13:09:54.456516Z"
    }
   },
   "outputs": [
    {
     "name": "stdout",
     "output_type": "stream",
     "text": [
      "Original answers: The best answer to this is: Read the fine print on your credit card agreement. What is common, at least in the US, is that you can make any charges you want during a time window. \n",
      "Filtered answers: What is common, at least in the US, is that you can make any charges you want during a time window.\n",
      "\n",
      "Original answers: 易方达易理财是中国的一家资产管理公司。它是由中国证券投资基金业协会监管的一家合法公司，并且是中国证监会批准的基金管理公司。如果您担心关于易方达易理财的安全性，建议您咨询相关监管机构，或者咨询专业的金融顾问，以确保您的投资是安全的。所在城市若有招商银行，也可以了解下招行发售的理财产品，您可以进入招行主页，点击理财产品-个人理财产品页面查看，也可通过搜索分类您需要的理财产品。温馨提示：购买之前请详细阅读产品说明书。 \n",
      "Filtered answers: 易方达易理财是中国的一家资产管理公司。 它是由中国证券投资基金业协会监管的一家合法公司，并且是中国证监会批准的基金管理公司。 如果你担心关于易方达易理财的安全性，建议你咨询相关监管机构，或者咨询专业的金融顾问，以确保你的投资是安全的。\n",
      "\n",
      "Original answers: Fundamental analysis is a method of evaluating the intrinsic value of an asset by examining its underlying economic and financial factors. It involves analyzing a company's financial statements, such as its balance sheet, income statement, and cash flow statement, as well as other factors such as its management, competitive advantage, and industry trends.If you're interested in learning fundamental analysis, here are a few steps you can follow:Start by learning the basic concepts and terminology of financial analysis, such as profitability ratios, liquidity ratios, and debt ratios.Learn how to read and interpret financial statements.I hope this helps! Let me know if you have any other questions. \n",
      "Filtered answers: Fundamental analysis is a method of evaluating the intrinsic value of an asset by examining its underlying economic and financial factors. It involves analyzing a company's financial statements, such as its balance sheet, income statement, and cash flow statement, as well as other factors such as its management, competitive advantage, and industry trends.If you're interested in learning fundamental analysis, here are a few steps you can follow:Start by learning the basic concepts and terminology of financial analysis, such as profitability ratios, liquidity ratios, and debt ratios.Learn how to read and interpret financial statements.I hope this helps!\n",
      "\n",
      "Original answers: 我不能为你提供任何基于个人经验的神秘主义规律，因为我是一个人工智能助手，没有自己的个人经验。我只能根据我所获得的信息来回答问题，并且我的知识基于 2021 年前的信息，并没有浏览的功能。神秘主义是一种不科学的信仰，它基于超自然的力量或神秘的规律，并且往往忽略了科学知识和方法。尽管有些人喜欢探索神秘主义的理论，但是没有科学依据的主张不能被视为可靠或可信的。 \n",
      "Filtered answers: 神秘主义是一种不科学的信仰，它基于超自然的力量或神秘的规律，并且往往忽略了科学知识和方法。\n",
      "\n"
     ]
    }
   ],
   "source": [
    "# human answers, en\n",
    "answers = \"The best answer to this is: Read the fine print on your credit card agreement. What is common, at least in the US, is that you can make any charges you want during a time window.\"\n",
    "filtered_answers = filtering(answers, indicating_words=indicating_words_human_en, language='en', verbose=True)\n",
    "\n",
    "# human answers, zh\n",
    "answers = \"易方达易理财是中国的一家资产管理公司。它是由中国证券投资基金业协会监管的一家合法公司，并且是中国证监会批准的基金管理公司。如果您担心关于易方达易理财的安全性，建议您咨询相关监管机构，或者咨询专业的金融顾问，以确保您的投资是安全的。所在城市若有招商银行，也可以了解下招行发售的理财产品，您可以进入招行主页，点击理财产品-个人理财产品页面查看，也可通过搜索分类您需要的理财产品。温馨提示：购买之前请详细阅读产品说明书。\"\n",
    "filtered_answers = filtering(answers, indicating_words=indicating_words_human_zh, language='zh', verbose=True)\n",
    "\n",
    "# chatgpt answers, en\n",
    "answers = \"Fundamental analysis is a method of evaluating the intrinsic value of an asset by examining its underlying economic and financial factors. It involves analyzing a company's financial statements, such as its balance sheet, income statement, and cash flow statement, as well as other factors such as its management, competitive advantage, and industry trends.If you're interested in learning fundamental analysis, here are a few steps you can follow:Start by learning the basic concepts and terminology of financial analysis, such as profitability ratios, liquidity ratios, and debt ratios.Learn how to read and interpret financial statements.I hope this helps! Let me know if you have any other questions.\"\n",
    "filtered_answers = filtering(answers, indicating_words=indicating_words_chatgpt_en, language='en', verbose=True)\n",
    "\n",
    "# chatgpt answers, zh\n",
    "answers = \"我不能为你提供任何基于个人经验的神秘主义规律，因为我是一个人工智能助手，没有自己的个人经验。我只能根据我所获得的信息来回答问题，并且我的知识基于 2021 年前的信息，并没有浏览的功能。神秘主义是一种不科学的信仰，它基于超自然的力量或神秘的规律，并且往往忽略了科学知识和方法。尽管有些人喜欢探索神秘主义的理论，但是没有科学依据的主张不能被视为可靠或可信的。\"\n",
    "filtered_answers = filtering(answers, indicating_words=indicating_words_chatgpt_zh, language='zh', verbose=True)"
   ]
  }
 ],
 "metadata": {
  "kernelspec": {
   "display_name": "Python 3",
   "language": "python",
   "name": "python3"
  },
  "language_info": {
   "codemirror_mode": {
    "name": "ipython",
    "version": 3
   },
   "file_extension": ".py",
   "mimetype": "text/x-python",
   "name": "python",
   "nbconvert_exporter": "python",
   "pygments_lexer": "ipython3",
   "version": "3.7.7"
  },
  "toc": {
   "base_numbering": 1,
   "nav_menu": {},
   "number_sections": true,
   "sideBar": true,
   "skip_h1_title": false,
   "title_cell": "Table of Contents",
   "title_sidebar": "Contents",
   "toc_cell": false,
   "toc_position": {},
   "toc_section_display": true,
   "toc_window_display": false
  },
  "varInspector": {
   "cols": {
    "lenName": 16,
    "lenType": 16,
    "lenVar": 40
   },
   "kernels_config": {
    "python": {
     "delete_cmd_postfix": "",
     "delete_cmd_prefix": "del ",
     "library": "var_list.py",
     "varRefreshCmd": "print(var_dic_list())"
    },
    "r": {
     "delete_cmd_postfix": ") ",
     "delete_cmd_prefix": "rm(",
     "library": "var_list.r",
     "varRefreshCmd": "cat(var_dic_list()) "
    }
   },
   "types_to_exclude": [
    "module",
    "function",
    "builtin_function_or_method",
    "instance",
    "_Feature"
   ],
   "window_display": false
  }
 },
 "nbformat": 4,
 "nbformat_minor": 4
}
